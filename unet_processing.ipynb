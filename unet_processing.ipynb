{
 "cells": [
  {
   "cell_type": "code",
   "execution_count": 1,
   "id": "39487c77-4823-41ff-8a21-009342b0dd80",
   "metadata": {},
   "outputs": [
    {
     "name": "stderr",
     "output_type": "stream",
     "text": [
      "/var/folders/3z/md79xf1n2mndn67998_9qpfr0000gn/T/ipykernel_927/4293410420.py:11: DeprecationWarning: Please import `maximum_filter` from the `scipy.ndimage` namespace; the `scipy.ndimage.filters` namespace is deprecated and will be removed in SciPy 2.0.0.\n",
      "  from scipy.ndimage.filters import maximum_filter\n",
      "/var/folders/3z/md79xf1n2mndn67998_9qpfr0000gn/T/ipykernel_927/4293410420.py:12: DeprecationWarning: Please import `generate_binary_structure` from the `scipy.ndimage` namespace; the `scipy.ndimage.morphology` namespace is deprecated and will be removed in SciPy 2.0.0.\n",
      "  from scipy.ndimage.morphology import generate_binary_structure, binary_erosion\n",
      "/var/folders/3z/md79xf1n2mndn67998_9qpfr0000gn/T/ipykernel_927/4293410420.py:12: DeprecationWarning: Please import `binary_erosion` from the `scipy.ndimage` namespace; the `scipy.ndimage.morphology` namespace is deprecated and will be removed in SciPy 2.0.0.\n",
      "  from scipy.ndimage.morphology import generate_binary_structure, binary_erosion\n"
     ]
    }
   ],
   "source": [
    "import numpy as np\n",
    "import matplotlib.pyplot as plt\n",
    "import cv2 as cv\n",
    "import os\n",
    "from tqdm import tqdm\n",
    "\n",
    "import atomai as aoi\n",
    "import torch\n",
    "import random\n",
    "\n",
    "from scipy.ndimage.filters import maximum_filter\n",
    "from scipy.ndimage.morphology import generate_binary_structure, binary_erosion\n",
    "from scipy.spatial.distance import cdist"
   ]
  },
  {
   "cell_type": "code",
   "execution_count": 2,
   "id": "52c74962-6fd2-44a0-be84-c6dd4e8cb6cc",
   "metadata": {},
   "outputs": [],
   "source": [
    "def load_images_from_folder(folder_path):\n",
    "    images = []\n",
    "    image_files = [f for f in os.listdir(folder_path) if f.endswith(\".txt\") ]\n",
    "    \n",
    "    for filename in tqdm(image_files, desc=\"Processing images\"):\n",
    "        img_path = os.path.join(folder_path, filename)\n",
    "        img = np.loadtxt(img_path)\n",
    "        normalizedData = cv.normalize(img, None, 0, 255, cv.NORM_MINMAX).astype('uint8')\n",
    "        normalizedData = cv.resize(normalizedData, (512,512), interpolation=cv.INTER_LINEAR)\n",
    "        images.append(normalizedData)\n",
    "    return images\n",
    "\n",
    "def get_mask(image):\n",
    "    mask = cv.adaptiveThreshold(image, 1, cv.ADAPTIVE_THRESH_GAUSSIAN_C,\n",
    "                              cv.THRESH_BINARY,11,-7)\n",
    "#    ret, mask = cv.threshold(image,120,255,cv.THRESH_BINARY)\n",
    "    return(mask)\n",
    "\n",
    "def window_cropper(image, mask, window_size):\n",
    "    num_windows_height = mask.shape[0] // window_size\n",
    "    num_windows_width = mask.shape[1] // window_size\n",
    "\n",
    "    sample_windows = []\n",
    "    mask_windows = []\n",
    "\n",
    "    for i in range(num_windows_height):\n",
    "        for j in range(num_windows_width):\n",
    "            # Calculate the starting indices for the window\n",
    "            start_row = i * window_size\n",
    "            start_col = j * window_size\n",
    "            \n",
    "            # Extract the window\n",
    "            sample_window = image[start_row:start_row + window_size, start_col:start_col + window_size]\n",
    "            mask_window = mask[start_row:start_row + window_size, start_col:start_col + window_size]\n",
    "            if np.any(mask_window != 0):\n",
    "                sample_windows.append(sample_window)\n",
    "                mask_windows.append(mask_window)\n",
    "    \n",
    "    return(sample_windows, mask_windows)\n",
    "\n",
    "def get_coordinates(image):\n",
    "    threshData = cv.adaptiveThreshold(image, 110, cv.ADAPTIVE_THRESH_GAUSSIAN_C,\n",
    "                               cv.THRESH_BINARY,25,-29)\n",
    "    contours, hierarchy = cv.findContours(threshData, cv.RETR_TREE, cv.CHAIN_APPROX_NONE)\n",
    "\n",
    "    coordinates = []\n",
    "    match_shapes = []\n",
    "    circle_mask = np.zeros(image.shape)\n",
    "    circle = cv.circle(circle_mask,(150,150),3,255,2)\n",
    "    \n",
    "    for i, count in enumerate(contours):\n",
    "    \n",
    "        area = cv.contourArea(count)\n",
    "        x,y,w,h = cv.boundingRect(count)\n",
    "        rect_area = w*h\n",
    "        extent = float(area)/rect_area\n",
    "        ret = cv.matchShapes(circle,count,1,0.0)\n",
    "        match_shapes.append(ret)\n",
    "    \n",
    "        if extent<0.19:\n",
    "            match_shapes[i] = 0\n",
    "        \n",
    "        if extent > 0.19:  #Filters out edges\n",
    "            mask = np.zeros(image.shape)\n",
    "            cv.drawContours(mask, [count], -1, (0, 255, 0), 1)\n",
    "            kpCnt = len(count)\n",
    "            x = 0\n",
    "            y = 0\n",
    "        \n",
    "            for kp in count:\n",
    "                x = x+kp[0][0]\n",
    "                y = y+kp[0][1]\n",
    "    \n",
    "            coordinates.append(np.array([i,x/kpCnt, y/kpCnt]))\n",
    "    \n",
    "    coordinates = np.stack(coordinates)\n",
    "    match_shapes = np.asarray(match_shapes)\n",
    "    \n",
    "    for i, shape in enumerate(match_shapes):\n",
    "        if shape > 1:\n",
    "            coordinates = coordinates[coordinates[:,0] != i]\n",
    "    \n",
    "    coordinates = coordinates[:,1:]\n",
    "    \n",
    "    for i, count in enumerate(contours):\n",
    "        if match_shapes[i] > 1:\n",
    "            dimer_mask = np.zeros(image.shape)\n",
    "            cv.drawContours(dimer_mask, [contours[i]], -1, 1, -1)\n",
    "            region_of_interest = image * dimer_mask\n",
    "            neighborhood = generate_binary_structure(2,2)\n",
    "            local_max = maximum_filter(region_of_interest, footprint=neighborhood)==region_of_interest\n",
    "            background = (region_of_interest==0)\n",
    "            eroded_background = binary_erosion(background, structure = neighborhood, border_value =1)\n",
    "            detected_peaks = local_max ^ eroded_background\n",
    "            if np.where(detected_peaks == True)[0].shape[0] > 1:\n",
    "                peak_coords_list = []\n",
    "                for j in range(np.where(detected_peaks == True)[0].shape[0]):\n",
    "                    peak_coords = np.array([[np.where(detected_peaks == True)[1][j],\n",
    "                                             np.where(detected_peaks == True)[0][j]]])\n",
    "                    peak_coords_list.append(peak_coords)\n",
    "    \n",
    "                peak_coords_list = np.asarray(peak_coords_list).reshape(np.where(detected_peaks == True)[0].shape[0],2)\n",
    "    \n",
    "                distances = cdist(peak_coords_list, peak_coords_list)\n",
    "                close_peaks = np.where((distances <= 4) & (distances != 0))\n",
    "                faulty_peaks = np.where((distances <= 1) & (distances != 0))\n",
    "                \n",
    "                peaks_to_remove = set()\n",
    "    \n",
    "                if peak_coords_list.shape[0] > 2:\n",
    "                    for i, j in zip(close_peaks[0], close_peaks[1]):\n",
    "                        if i < j:  \n",
    "                            peaks_to_remove.add(j)\n",
    "                \n",
    "                else:\n",
    "                    for i,j in zip(faulty_peaks[0], faulty_peaks[1]):\n",
    "                        if i < j:\n",
    "                            peaks_to_remove.add(j)\n",
    "    \n",
    "                peak_coords_list = np.delete(peak_coords_list, list(peaks_to_remove), axis=0)\n",
    "    \n",
    "                coordinates = np.concatenate((coordinates, peak_coords_list), axis=0)\n",
    "            else:\n",
    "                single_peak_coords = np.array([np.where(detected_peaks == True)[1],\n",
    "                                             np.where(detected_peaks == True)[0]]).reshape(1,2)\n",
    "                coordinates = np.concatenate((coordinates, single_peak_coords), axis=0)\n",
    "    \n",
    "    return(coordinates)\n"
   ]
  },
  {
   "cell_type": "code",
   "execution_count": 3,
   "id": "c4d26c8c-3f27-4ed0-8252-eb41090f58e0",
   "metadata": {},
   "outputs": [],
   "source": [
    "def img_augmentor(images=None, labels=None, nb_classes=2, seed=0, **kwargs):\n",
    "    '''\n",
    "    return: augmented images, labels in np.array([N, H, W])\n",
    "    input:\n",
    "    images, labels in np.array([N, H, W])\n",
    "    labels can be replaced with images to only augment images\n",
    "    nb_classes = no. of classes in labels (default=1)\n",
    "    kwargs:\n",
    "    zoom = 1.3 # zoom factor\n",
    "    poisson_noise = [30, 40] # P noise range (scaled units)\n",
    "    gauss_noise = [0, 200] # G noise range (scaled units)\n",
    "    blur = [1, 50] # Blurring range (scaled units)\n",
    "    contrast = [5, 20] # contrast range (< 10 is brighter, > 10 is darker)\n",
    "    salt_and_pepper = [0, 100] # min/max amount of salted/peppered pixels (scaled units)\n",
    "    jitter = [0, 50]\n",
    "    rotation=True\n",
    "    background=True\n",
    "    '''\n",
    "    imaug = aoi.transforms.seg_augmentor(nb_classes=nb_classes, seed=seed, **kwargs)\n",
    "    images_aug, labels_aug = imaug(torch.from_numpy(images[:, np.newaxis, ...]),\n",
    "                                   torch.from_numpy(labels[:, np.newaxis, ...]), seed=seed)\n",
    "    return images_aug.numpy()[:, 0, ...], labels_aug.numpy()[:, 0, ...]\n",
    "\n",
    "def unet_augmentor(images=None, labels=None, batch_size=64, nb_classes=1, seed=0, **kwargs):\n",
    "    '''\n",
    "    return: augmented images, labels in np.array([N, H, W])\n",
    "    input:\n",
    "    images, labels in np.array([N, H, W])\n",
    "    labels can be replaced with images to only augment images\n",
    "    batch_size = no. of augmented images/labels generated (default=32)\n",
    "    nb_classes = no. of classes in labels (default=1)\n",
    "    kwargs:\n",
    "    zoom = 1.3 # zoom factor\n",
    "    poisson_noise = [30, 40] # P noise range (scaled units)\n",
    "    gauss_noise = [0, 200] # G noise range (scaled units)\n",
    "    blur = [1, 50] # Blurring range (scaled units)\n",
    "    contrast = [5, 20] # contrast range (< 10 is brighter, > 10 is darker)\n",
    "    salt_and_pepper = [0, 100] # min/max amount of salted/peppered pixels (scaled units)\n",
    "    jitter = [0, 50]\n",
    "    rotation=True\n",
    "    background=True\n",
    "    '''\n",
    "    random.seed(seed)\n",
    "    randidx = random.choices([*range(len(images))], k=batch_size)\n",
    "    batch_shape = (batch_size, images.shape[1], images.shape[2])\n",
    "    img_batch = np.zeros(batch_shape); lab_batch = np.zeros(batch_shape)\n",
    "    for i in range(batch_size):\n",
    "        img_batch[i] = images[randidx[i]]; lab_batch[i] = labels[randidx[i]]\n",
    "    imaug = aoi.transforms.seg_augmentor(nb_classes=nb_classes, seed=seed, **kwargs)\n",
    "    images_aug, labels_aug = imaug(torch.from_numpy(img_batch[:, np.newaxis, ...]),\n",
    "                                   torch.from_numpy(lab_batch[:, np.newaxis, ...]), seed=seed)\n",
    "    return images_aug.numpy()[:, 0, ...], labels_aug.numpy()[:, 0, ...]"
   ]
  },
  {
   "cell_type": "code",
   "execution_count": 4,
   "id": "fb03ad5b-9a01-429e-a69e-cf9d25aa7c13",
   "metadata": {},
   "outputs": [
    {
     "name": "stderr",
     "output_type": "stream",
     "text": [
      "Processing images: 100%|███████████████████████| 13/13 [00:00<00:00, 234.00it/s]\n"
     ]
    }
   ],
   "source": [
    "images = load_images_from_folder(\"processed data\")\n",
    "window_crops = []\n",
    "masks = []"
   ]
  },
  {
   "cell_type": "code",
   "execution_count": 5,
   "id": "b5ce630d-c65f-46e5-897a-e266357c5a42",
   "metadata": {},
   "outputs": [],
   "source": [
    "for i in range(len(images)):\n",
    "    crops = aoi.utils.get_imgstack(images[i], get_coordinates(images[i]), 128)\n",
    "    for j in range(len(crops[0])):\n",
    "        window_crops.append([i,crops[0][j],crops[1][j]])\n",
    "        masks.append([i,get_mask(crops[0][j]),crops[1][j]])"
   ]
  },
  {
   "cell_type": "code",
   "execution_count": null,
   "id": "3625487c-3d04-4c96-bfcb-68b3a0d316a5",
   "metadata": {},
   "outputs": [],
   "source": []
  },
  {
   "cell_type": "code",
   "execution_count": 6,
   "id": "a1867d39-3035-4c0e-a79b-9950271709fc",
   "metadata": {},
   "outputs": [
    {
     "data": {
      "text/plain": [
       "<matplotlib.image.AxesImage at 0x303b40110>"
      ]
     },
     "execution_count": 6,
     "metadata": {},
     "output_type": "execute_result"
    },
    {
     "data": {
      "image/png": "[encoded data removed]",
      "text/plain": [
       "<Figure size 1500x500 with 2 Axes>"
      ]
     },
     "metadata": {},
     "output_type": "display_data"
    }
   ],
   "source": [
    "fig, ax = plt.subplots(1,2,figsize=(15,5))\n",
    "coords = get_coordinates(window_crops[18][1])\n",
    "ax[0].scatter(coords[:,0], coords[:,1])\n",
    "ax[0].imshow(window_crops[18][1])\n",
    "ax[1].scatter(coords[:,0], coords[:,1])\n",
    "ax[1].imshow(masks[18][1])"
   ]
  },
  {
   "cell_type": "code",
   "execution_count": 10,
   "id": "b8042af0-daf9-4d80-9ec5-18c6eb9b15a7",
   "metadata": {},
   "outputs": [
    {
     "data": {
      "text/plain": [
       "[0,\n",
       " array([[ 83,  83,  82, ...,  83,  83,  83],\n",
       "        [ 83,  83,  83, ...,  83,  83,  83],\n",
       "        [ 83,  83,  83, ...,  83,  83,  83],\n",
       "        ...,\n",
       "        [ 82,  82,  83, ..., 170, 186, 186],\n",
       "        [ 83,  83,  83, ..., 148, 159, 151],\n",
       "        [ 84,  84,  83, ..., 125, 133, 115]], dtype=uint8),\n",
       " array([259.82608696, 446.13043478])]"
      ]
     },
     "execution_count": 10,
     "metadata": {},
     "output_type": "execute_result"
    }
   ],
   "source": [
    "window_crops[:][1]"
   ]
  },
  {
   "cell_type": "code",
   "execution_count": 21,
   "id": "28365430-33ff-417f-a7c8-cf0aed20b526",
   "metadata": {},
   "outputs": [
    {
     "data": {
      "text/plain": [
       "(128, 128)"
      ]
     },
     "execution_count": 21,
     "metadata": {},
     "output_type": "execute_result"
    }
   ],
   "source": [
    "window_crops[3][1].shape"
   ]
  },
  {
   "cell_type": "code",
   "execution_count": 8,
   "id": "63157480-ad8b-4e84-ad83-ab99108f28b9",
   "metadata": {},
   "outputs": [
    {
     "ename": "NameError",
     "evalue": "name 'unet_img_aug' is not defined",
     "output_type": "error",
     "traceback": [
      "\u001b[0;31m---------------------------------------------------------------------------\u001b[0m",
      "\u001b[0;31mNameError\u001b[0m                                 Traceback (most recent call last)",
      "Cell \u001b[0;32mIn[8], line 2\u001b[0m\n\u001b[1;32m      1\u001b[0m \u001b[38;5;28;01mfrom\u001b[39;00m \u001b[38;5;21;01msklearn\u001b[39;00m\u001b[38;5;21;01m.\u001b[39;00m\u001b[38;5;21;01mmodel_selection\u001b[39;00m \u001b[38;5;28;01mimport\u001b[39;00m train_test_split\n\u001b[0;32m----> 2\u001b[0m training_images, validation_images, training_labels, validation_labels \u001b[38;5;241m=\u001b[39m train_test_split(unet_img_aug, unet_mask_aug, test_size \u001b[38;5;241m=\u001b[39m \u001b[38;5;241m0.4\u001b[39m)\n",
      "\u001b[0;31mNameError\u001b[0m: name 'unet_img_aug' is not defined"
     ]
    }
   ],
   "source": [
    "from sklearn.model_selection import train_test_split\n",
    "training_images, validation_images, training_labels, validation_labels = train_test_split(unet_img_aug, unet_mask_aug, test_size = 0.4)"
   ]
  },
  {
   "cell_type": "code",
   "execution_count": null,
   "id": "8e748e45-2c4e-4e69-a3c6-8509f5b690c0",
   "metadata": {},
   "outputs": [],
   "source": []
  }
 ],
 "metadata": {
  "kernelspec": {
   "display_name": "Python 3 (ipykernel)",
   "language": "python",
   "name": "python3"
  },
  "language_info": {
   "codemirror_mode": {
    "name": "ipython",
    "version": 3
   },
   "file_extension": ".py",
   "mimetype": "text/x-python",
   "name": "python",
   "nbconvert_exporter": "python",
   "pygments_lexer": "ipython3",
   "version": "3.11.7"
  }
 },
 "nbformat": 4,
 "nbformat_minor": 5
}
